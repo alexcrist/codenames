{
 "cells": [
  {
   "cell_type": "code",
   "execution_count": null,
   "metadata": {},
   "outputs": [],
   "source": [
    "# Gensim\n",
    "\n",
    "from gensim.test.utils import datapath\n",
    "from gensim import utils\n",
    "import gensim.models\n",
    "\n",
    "# NLTK\n",
    "\n",
    "from nltk import pos_tag\n",
    "\n",
    "# Misc\n",
    "\n",
    "import random"
   ]
  },
  {
   "cell_type": "code",
   "execution_count": null,
   "metadata": {},
   "outputs": [],
   "source": [
    "class MyCorpus(object):\n",
    "    \"\"\"An interator that yields sentences (lists of str).\"\"\"\n",
    "\n",
    "    def __iter__(self):\n",
    "        corpus_path = datapath('lee_background.cor')\n",
    "        for line in open(corpus_path):\n",
    "            # assume there's one document per line, tokens separated by whitespace\n",
    "            yield utils.simple_preprocess(line)"
   ]
  },
  {
   "cell_type": "code",
   "execution_count": null,
   "metadata": {},
   "outputs": [],
   "source": [
    "sentences = MyCorpus()\n",
    "model = gensim.models.Word2Vec(sentences=sentences)"
   ]
  },
  {
   "cell_type": "code",
   "execution_count": null,
   "metadata": {},
   "outputs": [],
   "source": [
    "all_vec_words = list(model.wv.vocab.keys())\n",
    "num_vec_words = len(all_vec_words)"
   ]
  },
  {
   "cell_type": "code",
   "execution_count": null,
   "metadata": {
    "scrolled": true
   },
   "outputs": [],
   "source": [
    "# Code name onstants\n",
    "\n",
    "NUM_WORDS = 25\n",
    "NUM_GREEN_WORDS = 1\n",
    "NUM_RED_WORDS = 9\n",
    "NUM_BLUE_WORDS = 8\n",
    "NUM_COLUMNS = 5\n",
    "NUM_ROWS = 5\n",
    "GREEN = \"green\"\n",
    "RED = \"red\"\n",
    "BLUE = \"blue\"\n",
    "BLACK = \"black\""
   ]
  },
  {
   "cell_type": "code",
   "execution_count": null,
   "metadata": {},
   "outputs": [],
   "source": [
    "# Helpers\n",
    "def paint(text, colorNum):\n",
    "    return \"\\x1b[{}m{}\\x1b[0m\".format(colorNum, text)\n",
    "\n",
    "red = lambda text: paint(text, 91)\n",
    "blue = lambda text: paint(text, 94)\n",
    "green = lambda text: paint(text, 92)\n",
    "black = lambda text: text\n",
    "\n",
    "colorizer_map = {\n",
    "    RED: red,\n",
    "    BLUE: blue,\n",
    "    GREEN: green,\n",
    "    BLACK: black\n",
    "}\n",
    "\n",
    "def pad(word, padding):\n",
    "    return word + (\" \" * (padding - len(word)))\n",
    "   \n",
    "def colored_word_to_string(word, show_color):\n",
    "    string, color = word\n",
    "    colorizer = black\n",
    "    if show_color:\n",
    "        colorizer = colorizer_map[color]\n",
    "    return colorizer(pad(string, 15))\n",
    "\n",
    "    \n",
    "def print_words(words, show_colors = True):\n",
    "    words_copy = words.copy()\n",
    "    if not show_colors:\n",
    "        random.shuffle(words_copy)\n",
    "    \n",
    "    for i in range(NUM_COLUMNS):\n",
    "        row = \"\"\n",
    "        for j in range(NUM_ROWS):\n",
    "            index = i * NUM_COLUMNS + j\n",
    "            word = words_copy[index]\n",
    "            string = colored_word_to_string(word, show_colors)\n",
    "            row += string\n",
    "        print(row + \"\\n\")"
   ]
  },
  {
   "cell_type": "markdown",
   "metadata": {},
   "source": [
    "# Init game\n",
    "\n",
    "* **<font color=\"red\">Team 1</font> goes first**\n",
    "    \n",
    "* **<font color=\"blue\">Team 2</font> goes second**"
   ]
  },
  {
   "cell_type": "code",
   "execution_count": null,
   "metadata": {},
   "outputs": [],
   "source": [
    "# Choose words\n",
    "\n",
    "words = []\n",
    "\n",
    "while len(words) < NUM_WORDS:\n",
    "    index = random.randint(0, num_vec_words)\n",
    "    word = all_vec_words[index]\n",
    "    tags = pos_tag([word])\n",
    "\n",
    "    if len(word) > 3 and len(word) < 10 and tags[0][1] == \"NN\" and word not in words:\n",
    "        colorIndex = len(words)\n",
    "        color = \"\"\n",
    "        if colorIndex < NUM_GREEN_WORDS:\n",
    "            color = GREEN\n",
    "        elif colorIndex < NUM_GREEN_WORDS + NUM_RED_WORDS:\n",
    "            color = RED\n",
    "        elif colorIndex < NUM_GREEN_WORDS + NUM_RED_WORDS + NUM_BLUE_WORDS:\n",
    "            color = BLUE\n",
    "        else:\n",
    "            color = BLACK\n",
    "            \n",
    "        words.append((word, color)) "
   ]
  },
  {
   "cell_type": "code",
   "execution_count": null,
   "metadata": {},
   "outputs": [],
   "source": [
    "# Print the board\n",
    "\n",
    "SHOW_COLORS = True\n",
    "\n",
    "print_words(words, SHOW_COLORS)"
   ]
  }
 ],
 "metadata": {
  "kernelspec": {
   "display_name": "Python 3",
   "language": "python",
   "name": "python3"
  },
  "language_info": {
   "codemirror_mode": {
    "name": "ipython",
    "version": 3
   },
   "file_extension": ".py",
   "mimetype": "text/x-python",
   "name": "python",
   "nbconvert_exporter": "python",
   "pygments_lexer": "ipython3",
   "version": "3.6.5"
  }
 },
 "nbformat": 4,
 "nbformat_minor": 2
}
