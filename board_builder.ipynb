{
 "cells": [
  {
   "cell_type": "code",
   "execution_count": 1,
   "metadata": {},
   "outputs": [],
   "source": [
    "# Gensim\n",
    "\n",
    "from gensim.test.utils import datapath\n",
    "from gensim import utils\n",
    "import gensim.models\n",
    "\n",
    "# NLTK\n",
    "from nltk import pos_tag\n",
    "\n",
    "# Misc\n",
    "\n",
    "from random import randint"
   ]
  },
  {
   "cell_type": "code",
   "execution_count": 2,
   "metadata": {},
   "outputs": [],
   "source": [
    "class MyCorpus(object):\n",
    "    \"\"\"An interator that yields sentences (lists of str).\"\"\"\n",
    "\n",
    "    def __iter__(self):\n",
    "        corpus_path = datapath('lee_background.cor')\n",
    "        for line in open(corpus_path):\n",
    "            # assume there's one document per line, tokens separated by whitespace\n",
    "            yield utils.simple_preprocess(line)"
   ]
  },
  {
   "cell_type": "code",
   "execution_count": 3,
   "metadata": {},
   "outputs": [],
   "source": [
    "sentences = MyCorpus()\n",
    "model = gensim.models.Word2Vec(sentences=sentences)"
   ]
  },
  {
   "cell_type": "code",
   "execution_count": 4,
   "metadata": {},
   "outputs": [],
   "source": [
    "all_vec_words = list(model.wv.vocab.keys())\n",
    "num_vec_words = len(all_vec_words)"
   ]
  },
  {
   "cell_type": "code",
   "execution_count": 5,
   "metadata": {
    "scrolled": true
   },
   "outputs": [],
   "source": [
    "# Code name onstants\n",
    "\n",
    "NUM_WORDS = 25\n",
    "NUM_GREEN_WORDS = 1\n",
    "NUM_RED_WORDS = 9\n",
    "NUM_BLUE_WORDS = 8\n",
    "NUM_COLUMNS = 5\n",
    "NUM_ROWS = 5"
   ]
  },
  {
   "cell_type": "code",
   "execution_count": 29,
   "metadata": {},
   "outputs": [],
   "source": [
    "# Helpers\n",
    "def color(text, colorNum):\n",
    "    return \"\\x1b[{}m{}\\x1b[0m\".format(colorNum, text)\n",
    "\n",
    "red = lambda text: color(text, 91)\n",
    "blue = lambda text: color(text, 94)\n",
    "green = lambda text: color(text, 92)\n",
    "\n",
    "def pad(word, padding):\n",
    "    return word + (\" \" * (padding - len(word)))\n",
    "    \n",
    "def print_words(words):\n",
    "    for i in range(NUM_COLUMNS):\n",
    "        row = \"\"\n",
    "        for j in range(NUM_ROWS):\n",
    "            index = i * NUM_COLUMNS + j\n",
    "            word = pad(words[index], 15).upper()\n",
    "            if index < NUM_GREEN_WORDS:\n",
    "                row += green(word)\n",
    "            elif index < NUM_GREEN_WORDS + NUM_RED_WORDS:\n",
    "                row += red(word)\n",
    "            elif index < NUM_GREEN_WORDS + NUM_RED_WORDS + NUM_BLUE_WORDS:\n",
    "                row += blue(word)\n",
    "            else:\n",
    "                row += word\n",
    "        print(row + \"\\n\")"
   ]
  },
  {
   "cell_type": "markdown",
   "metadata": {},
   "source": [
    "# Init game\n",
    "\n",
    "* **<font color=\"red\">Team 1</font> goes first**\n",
    "    \n",
    "* **<font color=\"blue\">Team 2</font> goes second**"
   ]
  },
  {
   "cell_type": "code",
   "execution_count": 37,
   "metadata": {},
   "outputs": [
    {
     "name": "stdout",
     "output_type": "stream",
     "text": [
      "\u001b[92mPARTY          \u001b[0m\u001b[91mFORCE          \u001b[0m\u001b[91mPETROL         \u001b[0m\u001b[91mSURVEY         \u001b[0m\u001b[91mRESPONSE       \u001b[0m\n",
      "\n",
      "\u001b[91mTABLE          \u001b[0m\u001b[91mDEPLOYED       \u001b[0m\u001b[91mTERRITORY      \u001b[0m\u001b[91mJOHN           \u001b[0m\u001b[91mFRIEDLI        \u001b[0m\n",
      "\n",
      "\u001b[94mINCOME         \u001b[0m\u001b[94mPART           \u001b[0m\u001b[94mSYSTEM         \u001b[0m\u001b[94mRECESSION      \u001b[0m\u001b[94mROOM           \u001b[0m\n",
      "\n",
      "\u001b[94mFLOOD          \u001b[0m\u001b[94mPROBLEM        \u001b[0m\u001b[94mTEST           \u001b[0mTELL           TOLL           \n",
      "\n",
      "REQUEST        SPOKESMAN      BUSINESS       ROOF           HEARD          \n",
      "\n"
     ]
    }
   ],
   "source": [
    "# Choose words\n",
    "\n",
    "\n",
    "\n",
    "words = []\n",
    "while len(words) < NUM_WORDS:\n",
    "    index = randint(0, num_vec_words)\n",
    "    word = all_vec_words[index]\n",
    "    tags = pos_tag([word])\n",
    "    if len(word) > 3 and len(word) < 10 and tags[0][1] == \"NN\" and word not in words:\n",
    "        color = words.length\n",
    "        words.append((word, color))\n",
    "        \n",
    "print_words(words)        "
   ]
  },
  {
   "cell_type": "code",
   "execution_count": null,
   "metadata": {},
   "outputs": [],
   "source": []
  }
 ],
 "metadata": {
  "kernelspec": {
   "display_name": "Python 3",
   "language": "python",
   "name": "python3"
  },
  "language_info": {
   "codemirror_mode": {
    "name": "ipython",
    "version": 3
   },
   "file_extension": ".py",
   "mimetype": "text/x-python",
   "name": "python",
   "nbconvert_exporter": "python",
   "pygments_lexer": "ipython3",
   "version": "3.6.5"
  }
 },
 "nbformat": 4,
 "nbformat_minor": 2
}
