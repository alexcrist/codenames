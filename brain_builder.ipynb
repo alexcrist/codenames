{
 "cells": [
  {
   "cell_type": "code",
   "execution_count": null,
   "metadata": {},
   "outputs": [],
   "source": [
    "import gensim \n",
    "from gensim.models import KeyedVectors\n",
    "from pprint import pprint\n",
    "from itertools import combinations\n",
    "import editdistance"
   ]
  },
  {
   "cell_type": "code",
   "execution_count": null,
   "metadata": {},
   "outputs": [],
   "source": [
    "model_path = './models/GoogleNews-vectors-negative300.bin'"
   ]
  },
  {
   "cell_type": "code",
   "execution_count": null,
   "metadata": {},
   "outputs": [],
   "source": [
    "model = KeyedVectors.load_word2vec_format(model_path, binary=True)  "
   ]
  },
  {
   "cell_type": "code",
   "execution_count": null,
   "metadata": {},
   "outputs": [],
   "source": [
    "red_words = [\n",
    "    \"labor\",\n",
    "    \"read\",\n",
    "    \"pace\",\n",
    "    \"past\",\n",
    "    \"ghost\",\n",
    "    \"solution\",\n",
    "    \"tomorrow\",\n",
    "    \"court\",\n",
    "    \"saturday\"\n",
    "]\n",
    "blue_words = [\n",
    "    \"shopping\",\n",
    "    \"stage\",\n",
    "    \"royal\",\n",
    "    \"zebra\",\n",
    "    \"fine\",\n",
    "    \"tour\",\n",
    "    \"access\",\n",
    "    \"invasion\"\n",
    "]\n",
    "neutral_words = [\n",
    "    \"radio\",\n",
    "    \"great\",\n",
    "    \"movement\",\n",
    "    \"remain\",\n",
    "    \"reject\",\n",
    "    \"crash\"\n",
    "]\n",
    "black_words = [\n",
    "    \"player\"\n",
    "]"
   ]
  },
  {
   "cell_type": "code",
   "execution_count": null,
   "metadata": {
    "scrolled": true
   },
   "outputs": [],
   "source": [
    "b._most_similar(positive=[\"shopping\", \"tour\"])"
   ]
  },
  {
   "cell_type": "code",
   "execution_count": null,
   "metadata": {},
   "outputs": [],
   "source": [
    "round(0.232322, 3)"
   ]
  },
  {
   "cell_type": "code",
   "execution_count": null,
   "metadata": {},
   "outputs": [],
   "source": [
    "round(model.similarity(w, comp_word), 3)"
   ]
  },
  {
   "cell_type": "code",
   "execution_count": null,
   "metadata": {
    "scrolled": true
   },
   "outputs": [],
   "source": [
    "comp_word = \"sightseeing\"\n",
    "sim_rank = []\n",
    "for w in red_words+blue_words+neutral_words+black_words+[\"vacation\"]:\n",
    "    s = round(model.similarity(w, comp_word), 3)\n",
    "    sim_rank.append((s, w))\n",
    "sim_rank = sorted(sim_rank, reverse=True)\n",
    "sim_rank"
   ]
  },
  {
   "cell_type": "code",
   "execution_count": null,
   "metadata": {},
   "outputs": [],
   "source": []
  },
  {
   "cell_type": "code",
   "execution_count": null,
   "metadata": {},
   "outputs": [],
   "source": []
  },
  {
   "cell_type": "code",
   "execution_count": null,
   "metadata": {},
   "outputs": [],
   "source": [
    "class Brain:\n",
    "    \n",
    "    def __init__(self, red_words, blue_words, bad_words, model=None, word_pairs=None):\n",
    "        self._red_words = red_words\n",
    "        self._blue_words = blue_words\n",
    "        self._bad_words = bad_words\n",
    "        self._guessed_words = []\n",
    "        \n",
    "        if model is None:\n",
    "            # Load from the default model path\n",
    "            model_path = './models/GoogleNews-vectors-negative300.bin'\n",
    "            print(f\"Loading maodel from: {model_path}\\n...\")\n",
    "            self._model = KeyedVectors.load_word2vec_format(model_path, binary=True)  \n",
    "            print(\"Model loaded.\")\n",
    "        else:\n",
    "            print(\"Using model passed in to __init__\")\n",
    "            self._model = model\n",
    "        \n",
    "        \"\"\"\n",
    "        A list of word pairs, their score, and hints like:\n",
    "        (\"word1\", \"word2\", 0.4, [(\"hint1\", 0.5), ...]),\n",
    "         ...\n",
    "        } \n",
    "        \"\"\"\n",
    "        if word_pairs is None:\n",
    "            print(\"Computing all word pair similarities...\")\n",
    "            self._word_pairs = self._init_word_pair_similarities()\n",
    "            print(\"Word similarities computed!\")\n",
    "        else:\n",
    "            self._word_pairs = word_pairs\n",
    "    \n",
    "    def _init_word_pair_similarities(self):\n",
    "        \"\"\"Compute the similarities between all words in the input.\"\"\"\n",
    "        words = self._red_words + self._blue_words + self._bad_words\n",
    "        \n",
    "        word_pairs = []\n",
    "        for w1, w2 in self._compute_word_pairs(words):\n",
    "            # TODO: support more than 2 words here\n",
    "            # Do it by doing all pairwise similarities\n",
    "            # Then averaging them, and include the std dev of similarities for ref\n",
    "            sim = round(self._model.similarity(w1, w2), 3)\n",
    "            suggestions = self._most_similar(positive=[w1, w2], topn=5)\n",
    "            word_pairs.append(\n",
    "                (w1, w2, sim, suggestions)\n",
    "            )\n",
    "\n",
    "        word_pairs = sorted(word_pairs, key=lambda v: v[2], reverse=True)\n",
    "        return word_pairs\n",
    "    \n",
    "    def _compute_word_pairs(self, words):\n",
    "        \"\"\"Get a list of tuples for all word pairs.\"\"\"\n",
    "        # Sort the words first so the tuples are always ordered the same\n",
    "        return combinations(sorted(words), r=2)\n",
    "\n",
    "    def _most_similar(self, *args, **kwargs):\n",
    "        \"\"\"Wrap gensim's most_similar function to filter similar words or n_grams.\n",
    "\n",
    "        Use like:\n",
    "        most_similar(\n",
    "            positive = [\"belt\", \"stone\"],\n",
    "            negative = [\"buck\", \"nurse\"],\n",
    "            topn = 10\n",
    "        )\n",
    "\n",
    "        \"\"\"\n",
    "        topn = kwargs.get(\"topn\", 10)\n",
    "        # Query for extra, since we filter some bad ones out\n",
    "        kwargs[\"topn\"] = topn + 20\n",
    "        words = model.most_similar(*args, **kwargs)\n",
    "        words = [(w.lower(), n) for w, n in words]\n",
    "\n",
    "        exclude_substrings=True\n",
    "        banned_chars = [\"_\", \"#\", \".\", \"/\"]\n",
    "        if exclude_substrings:\n",
    "            input_words = kwargs[\"positive\"]\n",
    "            words = [ # Todo drop edit distance <=2\n",
    "                (w.lower(), round(n, 3))\n",
    "                for w, n in words\n",
    "                if not (\n",
    "                    any(c in w for c in banned_chars) or\n",
    "                    any(w in i_w for i_w in input_words) or\n",
    "                    any(i_w in w for i_w in input_words) or\n",
    "                    any(editdistance.eval(w, i_w) <= 3 for i_w in input_words)\n",
    "                   )\n",
    "            ]\n",
    "        return words\n",
    "        \n",
    "    \n",
    "    def give_hint(self, player, clue_size=2):\n",
    "        \"\"\"Give a hint for what word to guess.\"\"\"\n",
    "        if clue_size > 2:\n",
    "            raise NotImplementedError(\"Clue size must be 1 or 2\")\n",
    "        if player.lower() == \"red\":\n",
    "            good_words = self._red_words\n",
    "            bad_words = self._blue_words + self._bad_words \n",
    "        elif player.lower() == \"blue\":\n",
    "            good_words = self._blue_words\n",
    "            bad_words = self._red_words + self._bad_words\n",
    "        else:\n",
    "            raise ValueError(\"Player must be one of: ['red', 'blue']\")\n",
    "        \n",
    "        good_words = [w for w in good_words if w not in self._guessed_words]\n",
    "        bad_words = [w for w in bad_words if w not in self._guessed_words]\n",
    "        # print(f\"~~Guessed_words: {self._guessed_words}\")\n",
    "        # print(f\"~~Good words: {good_words}\")\n",
    "        return self._give_hint(good_words, bad_words, clue_size=2)\n",
    "    \n",
    "    def _give_hint(self, good_words, bad_words, clue_size=2):\n",
    "        \"\"\"Get the clue by looking at top similarities in all the given words.\"\"\"\n",
    "        if len(good_words) == 1:\n",
    "            word_hint_list = self._most_similar(positive=good_words, topn=5)\n",
    "            word_hint, sim = word_hint_list[0]\n",
    "            return word_hint, 1, sim, (good_words[0],)\n",
    "\n",
    "        pairs = [*self._compute_word_pairs(good_words)]\n",
    "        \n",
    "        # Find the highest ranking pair from our candidate good pairs.\n",
    "        do_break = False\n",
    "        for w1, w2, wp_score, hint_words in self._word_pairs:\n",
    "            if (w1, w2) in pairs:\n",
    "                for hint_word, score in hint_words:\n",
    "                    if not self._no_alt_for_hint_word(hint_word, score):\n",
    "                        # This means we've found a hint word which ranks\n",
    "                        # highest in the 2 words we've got\n",
    "                        # print((w1, w2, wp_score))\n",
    "                        do_break = True\n",
    "                        break\n",
    "                    else:\n",
    "                        # print((w1, w2), hint_word, \"failed\")\n",
    "                        pass\n",
    "            if do_break:\n",
    "                break\n",
    "\n",
    "        # Now return the highest ranking hint for those two.\n",
    "        # word_hint, score = self._get_highest_ranked_hint(w1, w2)\n",
    "        return hint_word, clue_size, score, (w1, w2)\n",
    "    \n",
    "    def _no_alt_for_hint_word(self, hint_word, score):\n",
    "        \"\"\"Check if there is another pair that would be a better clue for hint word.\"\"\"\n",
    "        for other_w1, other_w2, _, other_hws in self._word_pairs:\n",
    "            for other_hw, o_score in other_hws:\n",
    "                if hint_word == other_hw and score < o_score:\n",
    "                    # print(\"other words:\", (other_w1, other_w2))\n",
    "                    return True\n",
    "        # print(\"looks good\")\n",
    "        return False\n",
    "    \n",
    "    def _get_highest_ranked_hint(self, w1, w2):\n",
    "        \"\"\"Use a model to deterimine which word we should give back as a hint.\"\"\"\n",
    "        word_hint_list = self._most_similar(positive=[w1, w2], topn=5)\n",
    "        \n",
    "        word_hint, sim = word_hint_list[0]\n",
    "        return word_hint, sim\n",
    "        \n",
    "    \n",
    "    def set_word_to_guessed(self, word):\n",
    "        \"\"\"Tell the brain a word that has already been guessed.\"\"\"\n",
    "        self._guessed_words.append(word)\n",
    "        \n",
    "            "
   ]
  },
  {
   "cell_type": "code",
   "execution_count": null,
   "metadata": {
    "scrolled": true
   },
   "outputs": [],
   "source": [
    "b = Brain(\n",
    "    red_words,\n",
    "    blue_words,\n",
    "    neutral_words + black_words,\n",
    "    model=model,\n",
    "#     word_pairs=wp\n",
    ")"
   ]
  },
  {
   "cell_type": "code",
   "execution_count": null,
   "metadata": {
    "scrolled": true
   },
   "outputs": [],
   "source": [
    "b.give_hint(\"blue\")"
   ]
  },
  {
   "cell_type": "code",
   "execution_count": null,
   "metadata": {},
   "outputs": [],
   "source": [
    "b.set_word_to_guessed(\"access\")"
   ]
  },
  {
   "cell_type": "code",
   "execution_count": null,
   "metadata": {
    "scrolled": true
   },
   "outputs": [],
   "source": [
    "b._guessed_words"
   ]
  },
  {
   "cell_type": "code",
   "execution_count": null,
   "metadata": {},
   "outputs": [],
   "source": [
    "b._blue_words"
   ]
  },
  {
   "cell_type": "code",
   "execution_count": null,
   "metadata": {},
   "outputs": [],
   "source": [
    "wp = b._word_pairs"
   ]
  },
  {
   "cell_type": "code",
   "execution_count": null,
   "metadata": {
    "scrolled": false
   },
   "outputs": [],
   "source": [
    "pprint(b._word_pairs[:2])"
   ]
  },
  {
   "cell_type": "code",
   "execution_count": null,
   "metadata": {},
   "outputs": [],
   "source": []
  }
 ],
 "metadata": {
  "kernelspec": {
   "display_name": "Python 3",
   "language": "python",
   "name": "python3"
  },
  "language_info": {
   "codemirror_mode": {
    "name": "ipython",
    "version": 3
   },
   "file_extension": ".py",
   "mimetype": "text/x-python",
   "name": "python",
   "nbconvert_exporter": "python",
   "pygments_lexer": "ipython3",
   "version": "3.6.8"
  }
 },
 "nbformat": 4,
 "nbformat_minor": 2
}
