{
 "cells": [
  {
   "cell_type": "code",
   "execution_count": 29,
   "metadata": {},
   "outputs": [],
   "source": [
    "import gensim \n",
    "from gensim.models import KeyedVectors\n",
    "from pprint import pprint\n",
    "from itertools import combinations\n",
    "import editdistance"
   ]
  },
  {
   "cell_type": "code",
   "execution_count": 2,
   "metadata": {},
   "outputs": [],
   "source": [
    "model_path = './models/GoogleNews-vectors-negative300.bin'"
   ]
  },
  {
   "cell_type": "code",
   "execution_count": 3,
   "metadata": {},
   "outputs": [],
   "source": [
    "model = KeyedVectors.load_word2vec_format(model_path, binary=True)  "
   ]
  },
  {
   "cell_type": "code",
   "execution_count": 4,
   "metadata": {},
   "outputs": [],
   "source": [
    "red_words = [\n",
    "    \"labor\",\n",
    "    \"read\",\n",
    "    \"pace\",\n",
    "    \"past\",\n",
    "    \"ghost\",\n",
    "    \"solution\",\n",
    "    \"tomorrow\",\n",
    "    \"court\",\n",
    "    \"saturday\"\n",
    "]\n",
    "blue_words = [\n",
    "    \"shopping\",\n",
    "    \"stage\",\n",
    "    \"royal\",\n",
    "    \"zebra\",\n",
    "    \"fine\",\n",
    "    \"tour\",\n",
    "    \"access\",\n",
    "    \"invasion\"\n",
    "]\n",
    "neutral_words = [\n",
    "    \"radio\",\n",
    "    \"great\",\n",
    "    \"movement\",\n",
    "    \"remain\",\n",
    "    \"reject\",\n",
    "    \"crash\"\n",
    "]\n",
    "black_words = [\n",
    "    \"player\"\n",
    "]"
   ]
  },
  {
   "cell_type": "code",
   "execution_count": 76,
   "metadata": {},
   "outputs": [],
   "source": [
    "class Brain:\n",
    "    \n",
    "    def __init__(self, red_words, blue_words, bad_words, model=None):\n",
    "        self._red_words = red_words\n",
    "        self._blue_words = blue_words\n",
    "        self._bad_words = bad_words\n",
    "        self._guessed_words = []\n",
    "        \n",
    "        if model is None:\n",
    "            # Load from the default model path\n",
    "            model_path = './models/GoogleNews-vectors-negative300.bin'\n",
    "            print(f\"Loading maodel from: {model_path}\\n...\")\n",
    "            self._model = KeyedVectors.load_word2vec_format(model_path, binary=True)  \n",
    "            print(\"Model loaded.\")\n",
    "        else:\n",
    "            print(\"Using model passed in to __init__\")\n",
    "            self._model = model\n",
    "        \n",
    "        # A list of word tuples like: (\"word1\", \"word2\", 0.4) sorted by number\n",
    "        print(\"Computing all word pair similarities...\")\n",
    "        self._word_pairs = self._init_word_pair_similarities()\n",
    "        print(\"Word similarities computed!\")\n",
    "    \n",
    "    def _init_word_pair_similarities(self):\n",
    "        \"\"\"Compute the similarities between all words in the input.\"\"\"\n",
    "        words = self._red_words + self._blue_words + self._bad_words\n",
    "        \n",
    "        word_pairs = []\n",
    "        for w1, w2 in self._compute_word_pairs(words):\n",
    "            # TODO: support more than 2 words here\n",
    "            # Do it by doing all pairwise similarities\n",
    "            # Then averaging them, and include the std dev of similarities for ref\n",
    "            word_pairs.append((w1, w2, self._model.similarity(w1, w2)))\n",
    "\n",
    "        word_pairs = sorted(word_pairs, key=lambda v: v[2], reverse=True)\n",
    "        return word_pairs\n",
    "    \n",
    "    def _compute_word_pairs(self, words):\n",
    "        \"\"\"Get a list of tuples for all word pairs.\"\"\"\n",
    "        # Sort the words first so the tuples are always ordered the same\n",
    "        return combinations(sorted(words), r=2)\n",
    "        \n",
    "    \n",
    "    def give_hint(self, player, clue_size=2):\n",
    "        \"\"\"Give a hint for what word to guess.\"\"\"\n",
    "        if clue_size > 2:\n",
    "            raise NotImplementedError(\"Clue size must be 1 or 2\")\n",
    "        if player == \"red\":\n",
    "            good_words = self._red_words\n",
    "            bad_words = self._blue_words + self._bad_words \n",
    "        elif player == \"blue\":\n",
    "            good_words = self._blue_words\n",
    "            bad_words = self._red_words + self._bad_words\n",
    "        else:\n",
    "            raise ValueError(\"Player must be one of: ['red', 'blue']\")\n",
    "        \n",
    "        good_words = [w for w in good_words if w not in self._guessed_words]\n",
    "        bad_words = [w for w in bad_words if w not in self._guessed_words]\n",
    "        print(f\"~~Guessed_words: {self._guessed_words}\")\n",
    "        print(f\"~~Good words: {good_words}\")\n",
    "        return self._give_hint(good_words, bad_words)\n",
    "        return good_words, bad_words\n",
    "    \n",
    "    def _give_hint(self, good_words, bad_words):\n",
    "        \"\"\"Get the clue by looking at top similarities in all the given words.\"\"\"\n",
    "        pairs = [*self._compute_word_pairs(good_words)]\n",
    "        \n",
    "        # Find the highest ranking pair from our candidate good pairs.\n",
    "        for w1, w2, _ in self._word_pairs:\n",
    "            if (w1, w2) in pairs:\n",
    "                break\n",
    "            \n",
    "        # Now return the highest ranking hint for those two.\n",
    "        word_hint_list = self._most_similar(positive=[w1, w2])\n",
    "        word_hint, sim = word_hint_list[0]\n",
    "        return word_hint, sim, (w1, w2)\n",
    "    \n",
    "    def update_with_word_guessed(self, word):\n",
    "        \"\"\"Tell the brain a word that has already been guessed.\"\"\"\n",
    "        self._guessed_words.append(word)\n",
    "\n",
    "    def _most_similar(self, *args, **kwargs):\n",
    "        \"\"\"Wrap gensim's most_similar function to filter similar words or n_grams.\n",
    "\n",
    "        Use like:\n",
    "        most_similar(\n",
    "            positive = [\"belt\", \"stone\"],\n",
    "            negative = [\"buck\", \"nurse\"],\n",
    "            topn = 10\n",
    "        )\n",
    "\n",
    "        \"\"\"\n",
    "        topn = kwargs.get(\"topn\", 10)\n",
    "        # Query for extra, since we filter some bad ones out\n",
    "        kwargs[\"topn\"] = topn + 20\n",
    "        words = model.most_similar(*args, **kwargs)\n",
    "        words = [(w.lower(), n) for w, n in words]\n",
    "\n",
    "        exclude_substrings=True\n",
    "        banned_chars = [\"_\", \"#\", \".\", \"/\"]\n",
    "        if exclude_substrings:\n",
    "            input_words = kwargs[\"positive\"]\n",
    "            words = [ # Todo drop edit distance <=2\n",
    "                (w.lower(), round(n, 3))\n",
    "                for w, n in words\n",
    "                if not (\n",
    "                    any(c in w for c in banned_chars) or\n",
    "                    any(w in i_w for i_w in input_words) or\n",
    "                    any(i_w in w for i_w in input_words) or\n",
    "                    any(editdistance.eval(w, i_w) <= 3 for i_w in input_words)\n",
    "                   )\n",
    "            ]\n",
    "        return words\n",
    "        \n",
    "            "
   ]
  },
  {
   "cell_type": "code",
   "execution_count": 77,
   "metadata": {
    "scrolled": false
   },
   "outputs": [
    {
     "name": "stdout",
     "output_type": "stream",
     "text": [
      "Using model passed in to __init__\n",
      "Computing all word pair similarities...\n",
      "Word similarities computed!\n"
     ]
    }
   ],
   "source": [
    "b = Brain([], blue_words, [], model=model)"
   ]
  },
  {
   "cell_type": "code",
   "execution_count": 81,
   "metadata": {
    "scrolled": false
   },
   "outputs": [
    {
     "name": "stdout",
     "output_type": "stream",
     "text": [
      "~~Guessed_words: ['stage']\n",
      "~~Good words: ['shopping', 'royal', 'zebra', 'fine', 'tour', 'access', 'invasion']\n"
     ]
    },
    {
     "data": {
      "text/plain": [
       "('invaded', 0.536, ('invasion', 'tour'))"
      ]
     },
     "execution_count": 81,
     "metadata": {},
     "output_type": "execute_result"
    }
   ],
   "source": [
    "b.give_hint(\"blue\")"
   ]
  },
  {
   "cell_type": "code",
   "execution_count": 79,
   "metadata": {},
   "outputs": [],
   "source": [
    "b.update_with_word_guessed(\"stage\")"
   ]
  },
  {
   "cell_type": "code",
   "execution_count": 80,
   "metadata": {
    "scrolled": true
   },
   "outputs": [
    {
     "data": {
      "text/plain": [
       "['stage']"
      ]
     },
     "execution_count": 80,
     "metadata": {},
     "output_type": "execute_result"
    }
   ],
   "source": [
    "b._guessed_words"
   ]
  },
  {
   "cell_type": "code",
   "execution_count": null,
   "metadata": {},
   "outputs": [],
   "source": []
  }
 ],
 "metadata": {
  "kernelspec": {
   "display_name": "Python 3",
   "language": "python",
   "name": "python3"
  },
  "language_info": {
   "codemirror_mode": {
    "name": "ipython",
    "version": 3
   },
   "file_extension": ".py",
   "mimetype": "text/x-python",
   "name": "python",
   "nbconvert_exporter": "python",
   "pygments_lexer": "ipython3",
   "version": "3.6.8"
  }
 },
 "nbformat": 4,
 "nbformat_minor": 2
}
